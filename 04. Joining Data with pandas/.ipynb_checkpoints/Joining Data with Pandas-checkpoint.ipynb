{
 "cells": [
  {
   "cell_type": "markdown",
   "metadata": {},
   "source": [
    "# 1.1 - Inner join"
   ]
  },
  {
   "cell_type": "markdown",
   "metadata": {},
   "source": [
    "Tables = DataFrames \\\n",
    "Merging = Joining"
   ]
  },
  {
   "cell_type": "code",
   "execution_count": 2,
   "metadata": {},
   "outputs": [],
   "source": [
    "import pandas as pd"
   ]
  },
  {
   "cell_type": "code",
   "execution_count": 7,
   "metadata": {},
   "outputs": [
    {
     "name": "stdout",
     "output_type": "stream",
     "text": [
      "   WARD                    ALDERMAN                               ADDRESS  \\\n",
      "0    33  Rodriguez Sanchez, Rossana            3001 West Irving Park Road   \n",
      "1    17             Moore, David H.                 1344 West 79th Street   \n",
      "2    44              Tunney, Thomas  3223 North Sheffield Avenue, Suite A   \n",
      "3    37                 Mitts, Emma                5344 West North Avenue   \n",
      "4     4             King, Sophia D.                  435 East 35th Street   \n",
      "\n",
      "      CITY STATE  ZIPCODE      WARD PHONE        WARD FAX  \\\n",
      "0  Chicago    IL  60618.0  (773) 840-7880             NaN   \n",
      "1  Chicago    IL  60636.0  (773) 783-3672  (773) 783-3878   \n",
      "2  Chicago    IL  60657.0  (773) 525-6034  (773) 525-5058   \n",
      "3  Chicago    IL  60651.0  (773) 379-0960  (773) 773-0966   \n",
      "4  Chicago    IL  60616.0  (773) 536-8103    773-536-7296   \n",
      "\n",
      "                      EMAIL  \\\n",
      "0         Info@33rdward.org   \n",
      "1       Alderman@17ward.com   \n",
      "2  Ward44@cityofchicago.org   \n",
      "3  Ward37@cityofchicago.org   \n",
      "4  Ward04@cityofchicago.org   \n",
      "\n",
      "                                             WEBSITE                 LOCATION  \\\n",
      "0                                                NaN   (41.95392, -87.703301)   \n",
      "1           http://www.David.Moore@cityofchicago.org   (41.75044, -87.657221)   \n",
      "2                               http://44thward.org/  (41.940497, -87.654108)   \n",
      "3  https://www.cityofchicago.org/city/en/about/wa...  (41.909514, -87.759726)   \n",
      "4                       http://www.aldsophiaking.com   (41.831135, -87.61541)   \n",
      "\n",
      "                               CITY HALL ADDRESS CITY HALL CITY  \\\n",
      "0  121 North LaSalle Street, Room 200, Office 20        Chicago   \n",
      "1  121 North LaSalle Street, Room 300, Office 37        Chicago   \n",
      "2             121 North LaSalle Street, Room 304        Chicago   \n",
      "3  121 North LaSalle Street, Room 300, Office 45        Chicago   \n",
      "4  121 North LaSalle Street, Room 300, Office 29        Chicago   \n",
      "\n",
      "  CITY HALL STATE  CITY HALL ZIPCODE        CITY HALL PHONE  \n",
      "0              IL              60602         (312) 744-3373  \n",
      "1              IL              60602         (312) 744-3435  \n",
      "2              IL              60602  (312) 744-3073 / 3133  \n",
      "3              IL              60602  (312) 744-3180 / 1589  \n",
      "4              IL              60602         (312) 744-2690  \n",
      "(50, 16)\n",
      "Index(['WARD', 'ALDERMAN', 'ADDRESS', 'CITY', 'STATE', 'ZIPCODE', 'WARD PHONE',\n",
      "       'WARD FAX', 'EMAIL', 'WEBSITE', 'LOCATION', 'CITY HALL ADDRESS',\n",
      "       'CITY HALL CITY', 'CITY HALL STATE', 'CITY HALL ZIPCODE',\n",
      "       'CITY HALL PHONE'],\n",
      "      dtype='object')\n"
     ]
    }
   ],
   "source": [
    "ward = pd.read_csv('Ward_Offices.csv')\n",
    "print(ward.head())\n",
    "print(ward.shape)\n",
    "print(ward.columns)"
   ]
  },
  {
   "cell_type": "code",
   "execution_count": 11,
   "metadata": {},
   "outputs": [],
   "source": [
    "wards = ward[['WARD','ALDERMAN','ADDRESS','ZIPCODE']].copy()"
   ]
  },
  {
   "cell_type": "code",
   "execution_count": 13,
   "metadata": {},
   "outputs": [],
   "source": [
    "census = ward[['WARD','CITY','STATE','WARD PHONE','EMAIL']]"
   ]
  },
  {
   "cell_type": "markdown",
   "metadata": {},
   "source": [
    "#### > Merging tables"
   ]
  },
  {
   "cell_type": "markdown",
   "metadata": {},
   "source": [
    "#### > Inner join"
   ]
  },
  {
   "cell_type": "code",
   "execution_count": 16,
   "metadata": {},
   "outputs": [
    {
     "data": {
      "text/html": [
       "<div>\n",
       "<style scoped>\n",
       "    .dataframe tbody tr th:only-of-type {\n",
       "        vertical-align: middle;\n",
       "    }\n",
       "\n",
       "    .dataframe tbody tr th {\n",
       "        vertical-align: top;\n",
       "    }\n",
       "\n",
       "    .dataframe thead th {\n",
       "        text-align: right;\n",
       "    }\n",
       "</style>\n",
       "<table border=\"1\" class=\"dataframe\">\n",
       "  <thead>\n",
       "    <tr style=\"text-align: right;\">\n",
       "      <th></th>\n",
       "      <th>WARD</th>\n",
       "      <th>ALDERMAN</th>\n",
       "      <th>ADDRESS</th>\n",
       "      <th>ZIPCODE</th>\n",
       "      <th>CITY</th>\n",
       "      <th>STATE</th>\n",
       "      <th>WARD PHONE</th>\n",
       "      <th>EMAIL</th>\n",
       "    </tr>\n",
       "  </thead>\n",
       "  <tbody>\n",
       "    <tr>\n",
       "      <th>0</th>\n",
       "      <td>33</td>\n",
       "      <td>Rodriguez Sanchez, Rossana</td>\n",
       "      <td>3001 West Irving Park Road</td>\n",
       "      <td>60618.0</td>\n",
       "      <td>Chicago</td>\n",
       "      <td>IL</td>\n",
       "      <td>(773) 840-7880</td>\n",
       "      <td>Info@33rdward.org</td>\n",
       "    </tr>\n",
       "    <tr>\n",
       "      <th>1</th>\n",
       "      <td>17</td>\n",
       "      <td>Moore, David H.</td>\n",
       "      <td>1344 West 79th Street</td>\n",
       "      <td>60636.0</td>\n",
       "      <td>Chicago</td>\n",
       "      <td>IL</td>\n",
       "      <td>(773) 783-3672</td>\n",
       "      <td>Alderman@17ward.com</td>\n",
       "    </tr>\n",
       "    <tr>\n",
       "      <th>2</th>\n",
       "      <td>44</td>\n",
       "      <td>Tunney, Thomas</td>\n",
       "      <td>3223 North Sheffield Avenue, Suite A</td>\n",
       "      <td>60657.0</td>\n",
       "      <td>Chicago</td>\n",
       "      <td>IL</td>\n",
       "      <td>(773) 525-6034</td>\n",
       "      <td>Ward44@cityofchicago.org</td>\n",
       "    </tr>\n",
       "    <tr>\n",
       "      <th>3</th>\n",
       "      <td>37</td>\n",
       "      <td>Mitts, Emma</td>\n",
       "      <td>5344 West North Avenue</td>\n",
       "      <td>60651.0</td>\n",
       "      <td>Chicago</td>\n",
       "      <td>IL</td>\n",
       "      <td>(773) 379-0960</td>\n",
       "      <td>Ward37@cityofchicago.org</td>\n",
       "    </tr>\n",
       "    <tr>\n",
       "      <th>4</th>\n",
       "      <td>4</td>\n",
       "      <td>King, Sophia D.</td>\n",
       "      <td>435 East 35th Street</td>\n",
       "      <td>60616.0</td>\n",
       "      <td>Chicago</td>\n",
       "      <td>IL</td>\n",
       "      <td>(773) 536-8103</td>\n",
       "      <td>Ward04@cityofchicago.org</td>\n",
       "    </tr>\n",
       "  </tbody>\n",
       "</table>\n",
       "</div>"
      ],
      "text/plain": [
       "   WARD                    ALDERMAN                               ADDRESS  \\\n",
       "0    33  Rodriguez Sanchez, Rossana            3001 West Irving Park Road   \n",
       "1    17             Moore, David H.                 1344 West 79th Street   \n",
       "2    44              Tunney, Thomas  3223 North Sheffield Avenue, Suite A   \n",
       "3    37                 Mitts, Emma                5344 West North Avenue   \n",
       "4     4             King, Sophia D.                  435 East 35th Street   \n",
       "\n",
       "   ZIPCODE     CITY STATE      WARD PHONE                     EMAIL  \n",
       "0  60618.0  Chicago    IL  (773) 840-7880         Info@33rdward.org  \n",
       "1  60636.0  Chicago    IL  (773) 783-3672       Alderman@17ward.com  \n",
       "2  60657.0  Chicago    IL  (773) 525-6034  Ward44@cityofchicago.org  \n",
       "3  60651.0  Chicago    IL  (773) 379-0960  Ward37@cityofchicago.org  \n",
       "4  60616.0  Chicago    IL  (773) 536-8103  Ward04@cityofchicago.org  "
      ]
     },
     "execution_count": 16,
     "metadata": {},
     "output_type": "execute_result"
    }
   ],
   "source": [
    "wards_census = wards.merge(census,on='WARD')\n",
    "wards_census.head()"
   ]
  },
  {
   "cell_type": "code",
   "execution_count": 17,
   "metadata": {},
   "outputs": [
    {
     "name": "stdout",
     "output_type": "stream",
     "text": [
      "Index(['WARD', 'ALDERMAN', 'ADDRESS', 'ZIPCODE', 'CITY', 'STATE', 'WARD PHONE',\n",
      "       'EMAIL'],\n",
      "      dtype='object')\n"
     ]
    }
   ],
   "source": [
    "print(wards_census.columns)"
   ]
  },
  {
   "cell_type": "markdown",
   "metadata": {},
   "source": [
    "#### > Suffixes "
   ]
  },
  {
   "cell_type": "code",
   "execution_count": 18,
   "metadata": {},
   "outputs": [
    {
     "name": "stdout",
     "output_type": "stream",
     "text": [
      "   WARD                    ALDERMAN                               ADDRESS  \\\n",
      "0    33  Rodriguez Sanchez, Rossana            3001 West Irving Park Road   \n",
      "1    17             Moore, David H.                 1344 West 79th Street   \n",
      "2    44              Tunney, Thomas  3223 North Sheffield Avenue, Suite A   \n",
      "3    37                 Mitts, Emma                5344 West North Avenue   \n",
      "4     4             King, Sophia D.                  435 East 35th Street   \n",
      "\n",
      "   ZIPCODE     CITY STATE      WARD PHONE                     EMAIL  \n",
      "0  60618.0  Chicago    IL  (773) 840-7880         Info@33rdward.org  \n",
      "1  60636.0  Chicago    IL  (773) 783-3672       Alderman@17ward.com  \n",
      "2  60657.0  Chicago    IL  (773) 525-6034  Ward44@cityofchicago.org  \n",
      "3  60651.0  Chicago    IL  (773) 379-0960  Ward37@cityofchicago.org  \n",
      "4  60616.0  Chicago    IL  (773) 536-8103  Ward04@cityofchicago.org  \n",
      "(50, 8)\n"
     ]
    }
   ],
   "source": [
    "wards_census = wards.merge(census, on='WARD', suffixes=('_cen','_ward'))\n",
    "print(wards_census.head())\n",
    "print(wards_census.shape)"
   ]
  },
  {
   "cell_type": "markdown",
   "metadata": {},
   "source": [
    "# 1.2 - One to many relationships"
   ]
  },
  {
   "cell_type": "code",
   "execution_count": 19,
   "metadata": {},
   "outputs": [
    {
     "name": "stdout",
     "output_type": "stream",
     "text": [
      "   _id           Begin Date                    Owner Name  \\\n",
      "0    1  2018-07-09T00:00:00            KASMARK THOMAS LEE   \n",
      "1    2  2018-03-09T00:00:00     QUINA WILLIAM QUINA ROBIN   \n",
      "2    3  2018-03-09T00:00:00     QUINA WILLIAM QUINA ROBIN   \n",
      "3    4  2019-02-15T00:00:00   PLUSH N PRETTY BOUTIQUE LLC   \n",
      "4    5  2018-05-04T00:00:00          PIVOTAL VENTURES LLC   \n",
      "\n",
      "                    Trade Name         Business Address   Business City  \\\n",
      "0       VENTILATION SPECIALIST     3832 CUMBERLAND PKWY  VIRGINIA BEACH   \n",
      "1                     PUP PLAN  3832 LASALLE DR APT 105  VIRGINIA BEACH   \n",
      "2                     PUP PLAN  3832 LASALLE DR APT 105  VIRGINIA BEACH   \n",
      "3  PLUSH N PRETTY BOUTIQUE LLC    3832 SHOOTING STAR DR  VIRGINIA BEACH   \n",
      "4         PIVOTAL VENTURES LLC       3835 WINTHROPE CIR  VIRGINIA BEACH   \n",
      "\n",
      "  Business State Business Zip Code Business Zip+4     Telephone  \\\n",
      "0             VA             23452           2220  757-232-4866   \n",
      "1             VA             23453           4774  321-295-6504   \n",
      "2             VA             23453           4774  321-295-6504   \n",
      "3             VA             23456           1319  757-502-9895   \n",
      "4             VA             23452           3924  757-647-4979   \n",
      "\n",
      "           Mailing Address    Mailing City Mailing State Mailing Zip Code  \\\n",
      "0     3832 CUMBERLAND PKWY  VIRGINIA BEACH            VA            23452   \n",
      "1  3832 LASALLE DR APT 105  VIRGINIA BEACH            VA            23453   \n",
      "2  3832 LASALLE DR APT 105  VIRGINIA BEACH            VA            23453   \n",
      "3    3832 SHOOTING STAR DR  VIRGINIA BEACH            VA            23456   \n",
      "4       3835 WINTHROPE CIR  VIRGINIA BEACH            VA            23452   \n",
      "\n",
      "  Mailing Zip+4      NAICS     Business Classification  \n",
      "0          2220  322293-01         Commission Merchant  \n",
      "1          4774  812910-01         Animal Care Service  \n",
      "2          4774  812990-01  Personal Service - General  \n",
      "3          1319  454890-02           Nonstore Retailer  \n",
      "4          3924  923110-01         Educational Service  \n",
      "(13137, 17)\n"
     ]
    }
   ],
   "source": [
    "licenses = pd.read_csv('Business_Licenses.csv')\n",
    "print(licenses.head())\n",
    "print(licenses.shape)"
   ]
  },
  {
   "cell_type": "code",
   "execution_count": 20,
   "metadata": {},
   "outputs": [],
   "source": [
    "ward_licenses = wards.merge(licenses, on='ward', suffixes=('_ward','_lic'))\n",
    "print(ward_licenses.head())"
   ]
  },
  {
   "cell_type": "markdown",
   "metadata": {},
   "source": [
    "# 1.3 - Merging multiple DataFrames"
   ]
  },
  {
   "cell_type": "markdown",
   "metadata": {},
   "source": [
    "#### > Theoretical merge"
   ]
  },
  {
   "cell_type": "code",
   "execution_count": 21,
   "metadata": {},
   "outputs": [],
   "source": [
    "grants_licenses = grants.merge(licenses, on='zip')\n",
    "print(grants_licenses.loc[grants_licenses['business']==\"REGGIE'S BAR & GRILL\",['grant','company','account','ward','business']])"
   ]
  },
  {
   "cell_type": "markdown",
   "metadata": {},
   "source": [
    "#### > Single merge"
   ]
  },
  {
   "cell_type": "code",
   "execution_count": 22,
   "metadata": {},
   "outputs": [],
   "source": [
    "grants.merge(licenses, on=['address','zip'])"
   ]
  },
  {
   "cell_type": "markdown",
   "metadata": {},
   "source": [
    "#### > Merging multiple tables"
   ]
  },
  {
   "cell_type": "code",
   "execution_count": null,
   "metadata": {},
   "outputs": [],
   "source": [
    "grants_licenses_ward = grants.merge(licenses, on=['address','zip']).merge(wards, on='ward', suffixes=('_bus','_ward'))\n",
    "grants_licenses_ward.head()"
   ]
  },
  {
   "cell_type": "markdown",
   "metadata": {},
   "source": [
    "#### > Results"
   ]
  },
  {
   "cell_type": "code",
   "execution_count": null,
   "metadata": {},
   "outputs": [],
   "source": [
    "import matplotlib.pyplot as plt\n",
    "grant_licenses_ward.groupby('ward').agg('sum').plot(kind='bar', y='grant')\n",
    "plt.show()"
   ]
  },
  {
   "cell_type": "markdown",
   "metadata": {},
   "source": [
    "#### > Merging even more"
   ]
  },
  {
   "cell_type": "code",
   "execution_count": 23,
   "metadata": {},
   "outputs": [
    {
     "data": {
      "text/plain": [
       "\"\\nThree tables:\\ndf1.merge(df2, on='col').merge(df3, on='col')\\n\\nFour tables:\\ndf1.merge(df2, on='col').merge(df3, on='col').merge(df4, on='col')\\n\""
      ]
     },
     "execution_count": 23,
     "metadata": {},
     "output_type": "execute_result"
    }
   ],
   "source": [
    "'''\n",
    "Three tables:\n",
    "df1.merge(df2, on='col').merge(df3, on='col')\n",
    "\n",
    "Four tables:\n",
    "df1.merge(df2, on='col').merge(df3, on='col').merge(df4, on='col')\n",
    "'''"
   ]
  },
  {
   "cell_type": "markdown",
   "metadata": {},
   "source": [
    "# 2.1 - Left join"
   ]
  },
  {
   "cell_type": "code",
   "execution_count": 26,
   "metadata": {},
   "outputs": [
    {
     "data": {
      "text/plain": [
       "(10866, 21)"
      ]
     },
     "execution_count": 26,
     "metadata": {},
     "output_type": "execute_result"
    }
   ],
   "source": [
    "movies = pd.read_csv('tmdb-movies.csv')\n",
    "movies.shape"
   ]
  },
  {
   "cell_type": "code",
   "execution_count": null,
   "metadata": {},
   "outputs": [],
   "source": [
    "movies_taglines = movies.merge(taglines, on='id', how='left')\n",
    "print(movies_taglines.head())"
   ]
  },
  {
   "cell_type": "markdown",
   "metadata": {},
   "source": [
    "# 2.2 - Other joins"
   ]
  },
  {
   "cell_type": "markdown",
   "metadata": {},
   "source": [
    "#### > Right Join"
   ]
  },
  {
   "cell_type": "code",
   "execution_count": null,
   "metadata": {},
   "outputs": [],
   "source": [
    "tv_movies = movies.merge(tv_genre, how='right',left_on='id', right_on='movie_id')\n",
    "print(tv_movies.head())"
   ]
  },
  {
   "cell_type": "markdown",
   "metadata": {},
   "source": [
    "#### > Outer Join"
   ]
  },
  {
   "cell_type": "code",
   "execution_count": null,
   "metadata": {},
   "outputs": [],
   "source": [
    "family_comedy = family.merge(comedy, on='movie_id', how='outer',suffixes=('_fam','_com'))\n",
    "print(family_comedy)"
   ]
  },
  {
   "cell_type": "markdown",
   "metadata": {},
   "source": [
    "# 2.3 - Merging a table to itself"
   ]
  },
  {
   "cell_type": "code",
   "execution_count": null,
   "metadata": {},
   "outputs": [],
   "source": [
    "original_sequels = sequels.merge(sequels, left_on='sequel', right_on='id',suffixes=('_org','_seq'))\n",
    "print(original_sequels.head())"
   ]
  },
  {
   "cell_type": "markdown",
   "metadata": {},
   "source": [
    "#### > Merging a table to itself with left join"
   ]
  },
  {
   "cell_type": "code",
   "execution_count": null,
   "metadata": {},
   "outputs": [],
   "source": [
    "original_sequels = sequels.merge(sequels, left_on='sequel', right_on='id',how='left', suffixes=('_org','_seq'))\n",
    "print(original_sequels.head())"
   ]
  },
  {
   "cell_type": "markdown",
   "metadata": {},
   "source": [
    "# 2.4 - Merging on indexes"
   ]
  },
  {
   "cell_type": "markdown",
   "metadata": {},
   "source": [
    "#### > Setting an index"
   ]
  },
  {
   "cell_type": "code",
   "execution_count": 27,
   "metadata": {},
   "outputs": [
    {
     "name": "stdout",
     "output_type": "stream",
     "text": [
      "          imdb_id  popularity     budget     revenue  \\\n",
      "id                                                     \n",
      "135397  tt0369610   32.985763  150000000  1513528810   \n",
      "76341   tt1392190   28.419936  150000000   378436354   \n",
      "262500  tt2908446   13.112507  110000000   295238201   \n",
      "140607  tt2488496   11.173104  200000000  2068178225   \n",
      "168259  tt2820852    9.335014  190000000  1506249360   \n",
      "\n",
      "                      original_title  \\\n",
      "id                                     \n",
      "135397                Jurassic World   \n",
      "76341             Mad Max: Fury Road   \n",
      "262500                     Insurgent   \n",
      "140607  Star Wars: The Force Awakens   \n",
      "168259                     Furious 7   \n",
      "\n",
      "                                                     cast  \\\n",
      "id                                                          \n",
      "135397  Chris Pratt|Bryce Dallas Howard|Irrfan Khan|Vi...   \n",
      "76341   Tom Hardy|Charlize Theron|Hugh Keays-Byrne|Nic...   \n",
      "262500  Shailene Woodley|Theo James|Kate Winslet|Ansel...   \n",
      "140607  Harrison Ford|Mark Hamill|Carrie Fisher|Adam D...   \n",
      "168259  Vin Diesel|Paul Walker|Jason Statham|Michelle ...   \n",
      "\n",
      "                                                 homepage          director  \\\n",
      "id                                                                            \n",
      "135397                      http://www.jurassicworld.com/   Colin Trevorrow   \n",
      "76341                         http://www.madmaxmovie.com/     George Miller   \n",
      "262500     http://www.thedivergentseries.movie/#insurgent  Robert Schwentke   \n",
      "140607  http://www.starwars.com/films/star-wars-episod...       J.J. Abrams   \n",
      "168259                           http://www.furious7.com/         James Wan   \n",
      "\n",
      "                              tagline  \\\n",
      "id                                      \n",
      "135397              The park is open.   \n",
      "76341              What a Lovely Day.   \n",
      "262500     One Choice Can Destroy You   \n",
      "140607  Every generation has a story.   \n",
      "168259            Vengeance Hits Home   \n",
      "\n",
      "                                                 keywords  \\\n",
      "id                                                          \n",
      "135397  monster|dna|tyrannosaurus rex|velociraptor|island   \n",
      "76341    future|chase|post-apocalyptic|dystopia|australia   \n",
      "262500  based on novel|revolution|dystopia|sequel|dyst...   \n",
      "140607              android|spaceship|jedi|space opera|3d   \n",
      "168259                car race|speed|revenge|suspense|car   \n",
      "\n",
      "                                                 overview  runtime  \\\n",
      "id                                                                   \n",
      "135397  Twenty-two years after the events of Jurassic ...      124   \n",
      "76341   An apocalyptic story set in the furthest reach...      120   \n",
      "262500  Beatrice Prior must confront her inner demons ...      119   \n",
      "140607  Thirty years after defeating the Galactic Empi...      136   \n",
      "168259  Deckard Shaw seeks revenge against Dominic Tor...      137   \n",
      "\n",
      "                                           genres  \\\n",
      "id                                                  \n",
      "135397  Action|Adventure|Science Fiction|Thriller   \n",
      "76341   Action|Adventure|Science Fiction|Thriller   \n",
      "262500         Adventure|Science Fiction|Thriller   \n",
      "140607   Action|Adventure|Science Fiction|Fantasy   \n",
      "168259                      Action|Crime|Thriller   \n",
      "\n",
      "                                     production_companies release_date  \\\n",
      "id                                                                       \n",
      "135397  Universal Studios|Amblin Entertainment|Legenda...       6/9/15   \n",
      "76341   Village Roadshow Pictures|Kennedy Miller Produ...      5/13/15   \n",
      "262500  Summit Entertainment|Mandeville Films|Red Wago...      3/18/15   \n",
      "140607          Lucasfilm|Truenorth Productions|Bad Robot     12/15/15   \n",
      "168259  Universal Pictures|Original Film|Media Rights ...       4/1/15   \n",
      "\n",
      "        vote_count  vote_average  release_year    budget_adj   revenue_adj  \n",
      "id                                                                          \n",
      "135397        5562           6.5          2015  1.379999e+08  1.392446e+09  \n",
      "76341         6185           7.1          2015  1.379999e+08  3.481613e+08  \n",
      "262500        2480           6.3          2015  1.012000e+08  2.716190e+08  \n",
      "140607        5292           7.5          2015  1.839999e+08  1.902723e+09  \n",
      "168259        2947           7.3          2015  1.747999e+08  1.385749e+09  \n"
     ]
    }
   ],
   "source": [
    "movies = pd.read_csv('tmdb-movies.csv', index_col=['id'])\n",
    "print(movies.head())"
   ]
  },
  {
   "cell_type": "markdown",
   "metadata": {},
   "source": [
    "#### > MultiIndex datasets"
   ]
  },
  {
   "cell_type": "code",
   "execution_count": null,
   "metadata": {},
   "outputs": [],
   "source": [
    "samuel = pd.read_csv('samuel.csv',index_col=['movie_id','cast_id'])\n",
    "print(samuel.head())"
   ]
  },
  {
   "cell_type": "code",
   "execution_count": null,
   "metadata": {},
   "outputs": [],
   "source": [
    "samuel_casts = samuel.merge(casts, on=['movie_id','cast_id'])\n",
    "print(samuel_casts.head())\n",
    "print(samuel_casts.shape)"
   ]
  },
  {
   "cell_type": "markdown",
   "metadata": {},
   "source": [
    "#### > Index merge with left_on and right_on"
   ]
  },
  {
   "cell_type": "code",
   "execution_count": null,
   "metadata": {},
   "outputs": [],
   "source": [
    "movies_genres = movies.merge(movie_to_genres, left_on='id', left_index=True,right_on='movie_id', right_index=True)\n",
    "print(movies_genres.head())"
   ]
  },
  {
   "cell_type": "markdown",
   "metadata": {},
   "source": [
    "# 3.1 - Filtering joins"
   ]
  },
  {
   "cell_type": "markdown",
   "metadata": {},
   "source": [
    "#### > Step 1 - semi-join"
   ]
  },
  {
   "cell_type": "code",
   "execution_count": null,
   "metadata": {},
   "outputs": [],
   "source": [
    "genres_tracks = genres.merge(top_tracks, on='gid')\n",
    "print(genres_tracks.head())"
   ]
  },
  {
   "cell_type": "markdown",
   "metadata": {},
   "source": [
    "#### > Step 2 - semi-join"
   ]
  },
  {
   "cell_type": "code",
   "execution_count": null,
   "metadata": {},
   "outputs": [],
   "source": [
    "genres['gid'].isin(genres_tracks['gid'])"
   ]
  },
  {
   "cell_type": "markdown",
   "metadata": {},
   "source": [
    "#### > Step 3 - semi-join"
   ]
  },
  {
   "cell_type": "code",
   "execution_count": null,
   "metadata": {},
   "outputs": [],
   "source": [
    "genres_tracks = genres.merge(top_tracks, on='gid')\n",
    "top_genres = genres[genres['gid'].isin(genres_tracks['gid'])]\n",
    "print(top_genres.head())"
   ]
  },
  {
   "cell_type": "markdown",
   "metadata": {},
   "source": [
    "#### > Step 1 - anti-join"
   ]
  },
  {
   "cell_type": "code",
   "execution_count": null,
   "metadata": {},
   "outputs": [],
   "source": [
    "genres_tracks = genres.merge(top_tracks, on='gid', how='left', indicator=True)\n",
    "print(genres_tracks.head())"
   ]
  },
  {
   "cell_type": "markdown",
   "metadata": {},
   "source": [
    "#### > Step 2 - anti-join"
   ]
  },
  {
   "cell_type": "code",
   "execution_count": null,
   "metadata": {},
   "outputs": [],
   "source": [
    "gid_list = genres_tracks.loc[genres_tracks['_merge'] == 'left_only','gid']\n",
    "print(gid_list.head())"
   ]
  },
  {
   "cell_type": "markdown",
   "metadata": {},
   "source": [
    "#### > Step 3 - anti-join"
   ]
  },
  {
   "cell_type": "code",
   "execution_count": null,
   "metadata": {},
   "outputs": [],
   "source": [
    "genres_tracks = genres.merge(top_tracks, on='gid', how='left', indicator=True)\n",
    "gid_list = genres_tracks.loc[genres_tracks['_merge'] =='left_only','gid']\n",
    "non_top_genres = genres[genres['gid'].isin(gid_list)]\n",
    "print(non_top_genres.head())"
   ]
  },
  {
   "cell_type": "markdown",
   "metadata": {},
   "source": [
    "# 3.2 - Concatenate DataFrames together vertically"
   ]
  },
  {
   "cell_type": "markdown",
   "metadata": {},
   "source": [
    "#### > Basic concatenation"
   ]
  },
  {
   "cell_type": "code",
   "execution_count": null,
   "metadata": {},
   "outputs": [],
   "source": [
    "pd.concat([inv_jan, inv_feb, inv_mar])"
   ]
  },
  {
   "cell_type": "markdown",
   "metadata": {},
   "source": [
    "#### > Ignoring the index"
   ]
  },
  {
   "cell_type": "code",
   "execution_count": null,
   "metadata": {},
   "outputs": [],
   "source": [
    "pd.concat([inv_jan, inv_feb, inv_mar],ignore_index=True)"
   ]
  },
  {
   "cell_type": "markdown",
   "metadata": {},
   "source": [
    "#### > Setting labels to original tables"
   ]
  },
  {
   "cell_type": "code",
   "execution_count": null,
   "metadata": {},
   "outputs": [],
   "source": [
    "pd.concat([inv_jan, inv_feb, inv_mar], ignore_index=False,keys=['jan','feb','mar'])"
   ]
  },
  {
   "cell_type": "markdown",
   "metadata": {},
   "source": [
    "#### > Concatenate tables with different column names"
   ]
  },
  {
   "cell_type": "code",
   "execution_count": null,
   "metadata": {},
   "outputs": [],
   "source": [
    "pd.concat([inv_jan, inv_feb],sort=True)"
   ]
  },
  {
   "cell_type": "code",
   "execution_count": null,
   "metadata": {},
   "outputs": [],
   "source": [
    "pd.concat([inv_jan, inv_feb],join='inner')"
   ]
  },
  {
   "cell_type": "code",
   "execution_count": null,
   "metadata": {},
   "outputs": [],
   "source": [
    "Simplied version ofthe .concat() method\n",
    "Supports: ignore_index , and sort\n",
    "Does Not Support: keys and join\n",
    "    Always join = outer"
   ]
  },
  {
   "cell_type": "markdown",
   "metadata": {},
   "source": [
    "#### > Using append method"
   ]
  },
  {
   "cell_type": "code",
   "execution_count": null,
   "metadata": {},
   "outputs": [],
   "source": [
    "inv_jan.append([inv_feb, inv_mar],ignore_index=True,sort=True)"
   ]
  },
  {
   "cell_type": "markdown",
   "metadata": {},
   "source": [
    "# 3.3 - Verifying integrity"
   ]
  },
  {
   "cell_type": "markdown",
   "metadata": {},
   "source": [
    "#### > Merge validate: one_to_one"
   ]
  },
  {
   "cell_type": "code",
   "execution_count": null,
   "metadata": {},
   "outputs": [],
   "source": [
    "tracks.merge(specs, on= 'tid',validate='one_to_one')"
   ]
  },
  {
   "cell_type": "markdown",
   "metadata": {},
   "source": [
    "#### > Merge validate: one_to_many"
   ]
  },
  {
   "cell_type": "code",
   "execution_count": null,
   "metadata": {},
   "outputs": [],
   "source": [
    "albums.merge(tracks, on='aid',validate='one_to_many')"
   ]
  },
  {
   "cell_type": "markdown",
   "metadata": {},
   "source": [
    "#### > Verifying concatenation: example"
   ]
  },
  {
   "cell_type": "code",
   "execution_count": null,
   "metadata": {},
   "outputs": [],
   "source": [
    "pd.concat([inv_feb, inv_mar],verify_integrity=False)\n",
    "pd.concat([inv_feb, inv_mar],verify_integrity=True)"
   ]
  },
  {
   "cell_type": "markdown",
   "metadata": {},
   "source": [
    "# 4.1 - Using merge_ordered()"
   ]
  },
  {
   "cell_type": "markdown",
   "metadata": {},
   "source": [
    "#### > Merging stock data"
   ]
  },
  {
   "cell_type": "code",
   "execution_count": 29,
   "metadata": {},
   "outputs": [
    {
     "ename": "NameError",
     "evalue": "name 'appl' is not defined",
     "output_type": "error",
     "traceback": [
      "\u001b[1;31m---------------------------------------------------------------------------\u001b[0m",
      "\u001b[1;31mNameError\u001b[0m                                 Traceback (most recent call last)",
      "\u001b[1;32m<ipython-input-29-25448929f648>\u001b[0m in \u001b[0;36m<module>\u001b[1;34m\u001b[0m\n\u001b[0;32m      1\u001b[0m \u001b[1;32mimport\u001b[0m \u001b[0mpandas\u001b[0m \u001b[1;32mas\u001b[0m \u001b[0mpd\u001b[0m\u001b[1;33m\u001b[0m\u001b[1;33m\u001b[0m\u001b[0m\n\u001b[1;32m----> 2\u001b[1;33m \u001b[0mpd\u001b[0m\u001b[1;33m.\u001b[0m\u001b[0mmerge_ordered\u001b[0m\u001b[1;33m(\u001b[0m\u001b[0mappl\u001b[0m\u001b[1;33m,\u001b[0m \u001b[0mmcd\u001b[0m\u001b[1;33m,\u001b[0m \u001b[0mon\u001b[0m\u001b[1;33m=\u001b[0m\u001b[1;34m'date'\u001b[0m\u001b[1;33m,\u001b[0m \u001b[0msuffixes\u001b[0m\u001b[1;33m=\u001b[0m\u001b[1;33m(\u001b[0m\u001b[1;34m'_aapl'\u001b[0m\u001b[1;33m,\u001b[0m\u001b[1;34m'_mcd'\u001b[0m\u001b[1;33m)\u001b[0m\u001b[1;33m)\u001b[0m\u001b[1;33m\u001b[0m\u001b[1;33m\u001b[0m\u001b[0m\n\u001b[0m",
      "\u001b[1;31mNameError\u001b[0m: name 'appl' is not defined"
     ]
    }
   ],
   "source": [
    "import pandas as pd\n",
    "pd.merge_ordered(appl, mcd, on='date', suffixes=('_aapl','_mcd'))"
   ]
  },
  {
   "cell_type": "markdown",
   "metadata": {},
   "source": [
    "#### > Forward fill example"
   ]
  },
  {
   "cell_type": "code",
   "execution_count": null,
   "metadata": {},
   "outputs": [],
   "source": [
    "pd.merge_ordered(appl, mcd, on='date',suffixes=('_aapl','_mcd'),fill_method='ffill')"
   ]
  },
  {
   "cell_type": "markdown",
   "metadata": {},
   "source": [
    "# 4.2 - Using merge_asof()"
   ]
  },
  {
   "cell_type": "code",
   "execution_count": null,
   "metadata": {},
   "outputs": [],
   "source": [
    "pd.merge_asof(visa, ibm, on='date_time',suffixes=('_visa','_ibm'))"
   ]
  },
  {
   "cell_type": "markdown",
   "metadata": {},
   "source": [
    "#### > merge_asof() example with direction"
   ]
  },
  {
   "cell_type": "code",
   "execution_count": null,
   "metadata": {},
   "outputs": [],
   "source": [
    "pd.merge_asof(visa, ibm, on=['date_time'],suffixes=('_visa','_ibm'),direction='forward')"
   ]
  },
  {
   "cell_type": "markdown",
   "metadata": {},
   "source": [
    "# 4.3 - Selecting data with .query()"
   ]
  },
  {
   "cell_type": "markdown",
   "metadata": {},
   "source": [
    "#### > Querying on a multiple conditions,\"and\",\"or\""
   ]
  },
  {
   "cell_type": "code",
   "execution_count": null,
   "metadata": {},
   "outputs": [],
   "source": [
    "stocks.query('nike > 90 and disney < 140')\n",
    "stocks.query('nike > 96 or disney < 98')"
   ]
  },
  {
   "cell_type": "markdown",
   "metadata": {},
   "source": [
    "#### > Using .query() to select text"
   ]
  },
  {
   "cell_type": "code",
   "execution_count": null,
   "metadata": {},
   "outputs": [],
   "source": [
    "stocks_long.query('stock==\"disney\" or (stock==\"nike\" and close < 90)')"
   ]
  },
  {
   "cell_type": "markdown",
   "metadata": {},
   "source": [
    "# 4.4 - Reshaping data with .melt()"
   ]
  },
  {
   "cell_type": "code",
   "execution_count": null,
   "metadata": {},
   "outputs": [],
   "source": [
    "social_fin_tall = social_fin.melt(id_vars=['financial','company'])\n",
    "print(social_fin_tall.head(10))"
   ]
  },
  {
   "cell_type": "markdown",
   "metadata": {},
   "source": [
    "#### > Melting with value_vars"
   ]
  },
  {
   "cell_type": "code",
   "execution_count": null,
   "metadata": {},
   "outputs": [],
   "source": [
    "social_fin_tall = social_fin.melt(id_vars=['financial','company'],value_vars=['2018','2017'])\n",
    "print(social_fin_tall.head(9))"
   ]
  },
  {
   "cell_type": "markdown",
   "metadata": {},
   "source": [
    "#### > Melting with column names"
   ]
  },
  {
   "cell_type": "code",
   "execution_count": null,
   "metadata": {},
   "outputs": [],
   "source": [
    "social_fin_tall = social_fin.melt(id_vars=['financial','company'],value_vars=['2018','2017'],var_name=['year'], value_name='dollars')\n",
    "print(social_fin_tall.head(8))"
   ]
  },
  {
   "cell_type": "markdown",
   "metadata": {},
   "source": [
    "# 4.5 - Course wrap-up"
   ]
  },
  {
   "cell_type": "code",
   "execution_count": null,
   "metadata": {},
   "outputs": [],
   "source": []
  }
 ],
 "metadata": {
  "kernelspec": {
   "display_name": "Python 3",
   "language": "python",
   "name": "python3"
  },
  "language_info": {
   "codemirror_mode": {
    "name": "ipython",
    "version": 3
   },
   "file_extension": ".py",
   "mimetype": "text/x-python",
   "name": "python",
   "nbconvert_exporter": "python",
   "pygments_lexer": "ipython3",
   "version": "3.8.3"
  }
 },
 "nbformat": 4,
 "nbformat_minor": 4
}
